{
 "cells": [
  {
   "cell_type": "markdown",
   "metadata": {},
   "source": [
    "# GitHub Push Exploration and Outlier Detection\n",
    "## Matt Steele 11-16-2018\n",
    "\n",
    "In this excercise we pull a set of push events from GetHub from public repositiories in order to investigate any outlier events. \n",
    "\n",
    "We are focused on two parameters of these push events:\n",
    "    - The time between pushes\n",
    "    - The number of commits in a push\n",
    "\n",
    "Aberations from the push event population may indicate bottlenecks in the development process, and finding them may produce a avenue for increasing development efficiency.\n",
    "\n",
    "### Pull Data from GItHub\n",
    "\n",
    "We use the GitHub REST API to pull a set of recent events in public repositories and extract the repositories which have had recent push events.\n"
   ]
  },
  {
   "cell_type": "code",
   "execution_count": 1,
   "metadata": {
    "collapsed": true
   },
   "outputs": [],
   "source": [
    "import requests\n",
    "import pandas as pd\n",
    "import matplotlib.pyplot as plt\n",
    "\n",
    "#--------- Get recent events -------------------------------------------------\n",
    "\n",
    "resp  = requests.get('https://api.github.com/events')\n"
   ]
  },
  {
   "cell_type": "code",
   "execution_count": 2,
   "metadata": {
    "collapsed": true
   },
   "outputs": [],
   "source": [
    "#--------- Pull list of repositories for recent push events ------------------\n",
    "\n",
    "repoURLs = []\n",
    "for item in resp.json():\n",
    "    if(item['type']=='PushEvent'):\n",
    "        repoURLs.append(item['repo']['url']+ \"/events\")\n"
   ]
  },
  {
   "cell_type": "markdown",
   "metadata": {},
   "source": [
    "From these repositories we then pull sets of recent push events and extract the number of distinct commits in a push event and timestamps of those push events."
   ]
  },
  {
   "cell_type": "code",
   "execution_count": 108,
   "metadata": {
    "collapsed": false
   },
   "outputs": [],
   "source": [
    "#------------- get Push event sizes and times -------------------------\n",
    "\n",
    "distinctSizes = []\n",
    "timeStamps = []\n",
    "repoNum = []\n",
    "i = 0\n",
    "for URL in repoURLs:\n",
    "    eventLog = requests.get(URL)\n",
    "    for item in eventLog.json():\n",
    "        if(item['type']=='PushEvent'):\n",
    "            distinctSizes.append(item['payload']['distinct_size'])\n",
    "            timeStamps.append(item['created_at'])\n",
    "            repoNum.append(i)\n",
    "    i = i+1\n",
    "    \n"
   ]
  },
  {
   "cell_type": "markdown",
   "metadata": {},
   "source": [
    "### Data cleaning, formating\n",
    "\n",
    "Once we have obtained the desired dataset we need to format in into a pandas dataframe and covert the timestamps into time intervals between commits."
   ]
  },
  {
   "cell_type": "code",
   "execution_count": 37,
   "metadata": {
    "collapsed": false
   },
   "outputs": [
    {
     "data": {
      "text/html": [
       "<div>\n",
       "<style scoped>\n",
       "    .dataframe tbody tr th:only-of-type {\n",
       "        vertical-align: middle;\n",
       "    }\n",
       "\n",
       "    .dataframe tbody tr th {\n",
       "        vertical-align: top;\n",
       "    }\n",
       "\n",
       "    .dataframe thead th {\n",
       "        text-align: right;\n",
       "    }\n",
       "</style>\n",
       "<table border=\"1\" class=\"dataframe\">\n",
       "  <thead>\n",
       "    <tr style=\"text-align: right;\">\n",
       "      <th></th>\n",
       "      <th>Repo</th>\n",
       "      <th>Size</th>\n",
       "      <th>Time</th>\n",
       "      <th>tDelt</th>\n",
       "    </tr>\n",
       "  </thead>\n",
       "  <tbody>\n",
       "    <tr>\n",
       "      <th>0</th>\n",
       "      <td>0</td>\n",
       "      <td>1</td>\n",
       "      <td>2018-11-16 14:50:12</td>\n",
       "      <td>446.0</td>\n",
       "    </tr>\n",
       "    <tr>\n",
       "      <th>1</th>\n",
       "      <td>0</td>\n",
       "      <td>1</td>\n",
       "      <td>2018-11-16 14:42:46</td>\n",
       "      <td>1298.0</td>\n",
       "    </tr>\n",
       "    <tr>\n",
       "      <th>2</th>\n",
       "      <td>0</td>\n",
       "      <td>1</td>\n",
       "      <td>2018-11-16 14:21:08</td>\n",
       "      <td>822.0</td>\n",
       "    </tr>\n",
       "    <tr>\n",
       "      <th>3</th>\n",
       "      <td>0</td>\n",
       "      <td>1</td>\n",
       "      <td>2018-11-16 14:07:26</td>\n",
       "      <td>40758.0</td>\n",
       "    </tr>\n",
       "    <tr>\n",
       "      <th>4</th>\n",
       "      <td>0</td>\n",
       "      <td>1</td>\n",
       "      <td>2018-11-16 02:48:08</td>\n",
       "      <td>319.0</td>\n",
       "    </tr>\n",
       "  </tbody>\n",
       "</table>\n",
       "</div>"
      ],
      "text/plain": [
       "   Repo  Size                Time    tDelt\n",
       "0     0     1 2018-11-16 14:50:12    446.0\n",
       "1     0     1 2018-11-16 14:42:46   1298.0\n",
       "2     0     1 2018-11-16 14:21:08    822.0\n",
       "3     0     1 2018-11-16 14:07:26  40758.0\n",
       "4     0     1 2018-11-16 02:48:08    319.0"
      ]
     },
     "execution_count": 37,
     "metadata": {},
     "output_type": "execute_result"
    }
   ],
   "source": [
    "#--------------- format dataframe -----------------------------\n",
    "\n",
    "data = {'Repo':repoNum,'Time':timeStamps,'Size':distinctSizes}\n",
    "\n",
    "githubDF = pd.DataFrame(data)\n",
    "githubDF.iloc[:,2] = pd.to_datetime(githubDF.iloc[:,2])\n",
    "\n",
    "# calculate time deltas between sequential push events\n",
    "timeDeltas = githubDF.iloc[::-1].groupby('Repo')['Time'].apply(lambda x: (x-x.shift()).fillna(0)).iloc[::-1]\n",
    "\n",
    "githubDF = githubDF.assign(tDelt=timeDeltas)\n",
    "githubDF.iloc[:,3] = githubDF.iloc[:,3].dt.total_seconds()\n",
    "\n",
    "githubDF.head()"
   ]
  },
  {
   "cell_type": "markdown",
   "metadata": {},
   "source": [
    "We can then perform a brief exploratory analyis on the data to develop an intuition on the nature and structure of the data. This exploratory analysis takes the form of calculating summary statistics and exploratory visualizations."
   ]
  },
  {
   "cell_type": "code",
   "execution_count": 65,
   "metadata": {
    "collapsed": false
   },
   "outputs": [
    {
     "data": {
      "text/html": [
       "<div>\n",
       "<style scoped>\n",
       "    .dataframe tbody tr th:only-of-type {\n",
       "        vertical-align: middle;\n",
       "    }\n",
       "\n",
       "    .dataframe tbody tr th {\n",
       "        vertical-align: top;\n",
       "    }\n",
       "\n",
       "    .dataframe thead th {\n",
       "        text-align: right;\n",
       "    }\n",
       "</style>\n",
       "<table border=\"1\" class=\"dataframe\">\n",
       "  <thead>\n",
       "    <tr style=\"text-align: right;\">\n",
       "      <th></th>\n",
       "      <th>Size</th>\n",
       "      <th>tDelt</th>\n",
       "    </tr>\n",
       "  </thead>\n",
       "  <tbody>\n",
       "    <tr>\n",
       "      <th>count</th>\n",
       "      <td>222.000000</td>\n",
       "      <td>2.220000e+02</td>\n",
       "    </tr>\n",
       "    <tr>\n",
       "      <th>mean</th>\n",
       "      <td>1.238739</td>\n",
       "      <td>5.194081e+04</td>\n",
       "    </tr>\n",
       "    <tr>\n",
       "      <th>std</th>\n",
       "      <td>1.134300</td>\n",
       "      <td>1.818052e+05</td>\n",
       "    </tr>\n",
       "    <tr>\n",
       "      <th>min</th>\n",
       "      <td>0.000000</td>\n",
       "      <td>0.000000e+00</td>\n",
       "    </tr>\n",
       "    <tr>\n",
       "      <th>25%</th>\n",
       "      <td>1.000000</td>\n",
       "      <td>9.275000e+01</td>\n",
       "    </tr>\n",
       "    <tr>\n",
       "      <th>50%</th>\n",
       "      <td>1.000000</td>\n",
       "      <td>9.675000e+02</td>\n",
       "    </tr>\n",
       "    <tr>\n",
       "      <th>75%</th>\n",
       "      <td>1.000000</td>\n",
       "      <td>2.574300e+04</td>\n",
       "    </tr>\n",
       "    <tr>\n",
       "      <th>max</th>\n",
       "      <td>12.000000</td>\n",
       "      <td>1.990604e+06</td>\n",
       "    </tr>\n",
       "  </tbody>\n",
       "</table>\n",
       "</div>"
      ],
      "text/plain": [
       "             Size         tDelt\n",
       "count  222.000000  2.220000e+02\n",
       "mean     1.238739  5.194081e+04\n",
       "std      1.134300  1.818052e+05\n",
       "min      0.000000  0.000000e+00\n",
       "25%      1.000000  9.275000e+01\n",
       "50%      1.000000  9.675000e+02\n",
       "75%      1.000000  2.574300e+04\n",
       "max     12.000000  1.990604e+06"
      ]
     },
     "execution_count": 65,
     "metadata": {},
     "output_type": "execute_result"
    }
   ],
   "source": [
    "githubDF.iloc[:,[1,3]].describe()"
   ]
  },
  {
   "cell_type": "code",
   "execution_count": 67,
   "metadata": {
    "collapsed": false
   },
   "outputs": [
    {
     "data": {
      "text/html": [
       "<div>\n",
       "<style scoped>\n",
       "    .dataframe tbody tr th:only-of-type {\n",
       "        vertical-align: middle;\n",
       "    }\n",
       "\n",
       "    .dataframe tbody tr th {\n",
       "        vertical-align: top;\n",
       "    }\n",
       "\n",
       "    .dataframe thead tr th {\n",
       "        text-align: left;\n",
       "    }\n",
       "\n",
       "    .dataframe thead tr:last-of-type th {\n",
       "        text-align: right;\n",
       "    }\n",
       "</style>\n",
       "<table border=\"1\" class=\"dataframe\">\n",
       "  <thead>\n",
       "    <tr>\n",
       "      <th></th>\n",
       "      <th colspan=\"8\" halign=\"left\">Size</th>\n",
       "      <th colspan=\"8\" halign=\"left\">tDelt</th>\n",
       "    </tr>\n",
       "    <tr>\n",
       "      <th></th>\n",
       "      <th>count</th>\n",
       "      <th>mean</th>\n",
       "      <th>std</th>\n",
       "      <th>min</th>\n",
       "      <th>25%</th>\n",
       "      <th>50%</th>\n",
       "      <th>75%</th>\n",
       "      <th>max</th>\n",
       "      <th>count</th>\n",
       "      <th>mean</th>\n",
       "      <th>std</th>\n",
       "      <th>min</th>\n",
       "      <th>25%</th>\n",
       "      <th>50%</th>\n",
       "      <th>75%</th>\n",
       "      <th>max</th>\n",
       "    </tr>\n",
       "    <tr>\n",
       "      <th>Repo</th>\n",
       "      <th></th>\n",
       "      <th></th>\n",
       "      <th></th>\n",
       "      <th></th>\n",
       "      <th></th>\n",
       "      <th></th>\n",
       "      <th></th>\n",
       "      <th></th>\n",
       "      <th></th>\n",
       "      <th></th>\n",
       "      <th></th>\n",
       "      <th></th>\n",
       "      <th></th>\n",
       "      <th></th>\n",
       "      <th></th>\n",
       "      <th></th>\n",
       "    </tr>\n",
       "  </thead>\n",
       "  <tbody>\n",
       "    <tr>\n",
       "      <th>0</th>\n",
       "      <td>14.0</td>\n",
       "      <td>1.000000</td>\n",
       "      <td>0.000000</td>\n",
       "      <td>1.0</td>\n",
       "      <td>1.0</td>\n",
       "      <td>1.0</td>\n",
       "      <td>1.0</td>\n",
       "      <td>1.0</td>\n",
       "      <td>14.0</td>\n",
       "      <td>11496.071429</td>\n",
       "      <td>1.558123e+04</td>\n",
       "      <td>0.0</td>\n",
       "      <td>482.25</td>\n",
       "      <td>2108.0</td>\n",
       "      <td>19664.75</td>\n",
       "      <td>40758.0</td>\n",
       "    </tr>\n",
       "    <tr>\n",
       "      <th>1</th>\n",
       "      <td>28.0</td>\n",
       "      <td>1.285714</td>\n",
       "      <td>0.658682</td>\n",
       "      <td>1.0</td>\n",
       "      <td>1.0</td>\n",
       "      <td>1.0</td>\n",
       "      <td>1.0</td>\n",
       "      <td>4.0</td>\n",
       "      <td>28.0</td>\n",
       "      <td>1917.714286</td>\n",
       "      <td>3.894617e+03</td>\n",
       "      <td>0.0</td>\n",
       "      <td>131.75</td>\n",
       "      <td>427.5</td>\n",
       "      <td>1233.25</td>\n",
       "      <td>14654.0</td>\n",
       "    </tr>\n",
       "    <tr>\n",
       "      <th>2</th>\n",
       "      <td>1.0</td>\n",
       "      <td>1.000000</td>\n",
       "      <td>NaN</td>\n",
       "      <td>1.0</td>\n",
       "      <td>1.0</td>\n",
       "      <td>1.0</td>\n",
       "      <td>1.0</td>\n",
       "      <td>1.0</td>\n",
       "      <td>1.0</td>\n",
       "      <td>0.000000</td>\n",
       "      <td>NaN</td>\n",
       "      <td>0.0</td>\n",
       "      <td>0.00</td>\n",
       "      <td>0.0</td>\n",
       "      <td>0.00</td>\n",
       "      <td>0.0</td>\n",
       "    </tr>\n",
       "    <tr>\n",
       "      <th>3</th>\n",
       "      <td>20.0</td>\n",
       "      <td>2.500000</td>\n",
       "      <td>3.268671</td>\n",
       "      <td>0.0</td>\n",
       "      <td>1.0</td>\n",
       "      <td>1.5</td>\n",
       "      <td>3.0</td>\n",
       "      <td>12.0</td>\n",
       "      <td>20.0</td>\n",
       "      <td>6906.400000</td>\n",
       "      <td>1.368020e+04</td>\n",
       "      <td>0.0</td>\n",
       "      <td>84.25</td>\n",
       "      <td>738.5</td>\n",
       "      <td>5625.25</td>\n",
       "      <td>52737.0</td>\n",
       "    </tr>\n",
       "    <tr>\n",
       "      <th>4</th>\n",
       "      <td>3.0</td>\n",
       "      <td>1.000000</td>\n",
       "      <td>0.000000</td>\n",
       "      <td>1.0</td>\n",
       "      <td>1.0</td>\n",
       "      <td>1.0</td>\n",
       "      <td>1.0</td>\n",
       "      <td>1.0</td>\n",
       "      <td>3.0</td>\n",
       "      <td>722310.000000</td>\n",
       "      <td>1.101907e+06</td>\n",
       "      <td>0.0</td>\n",
       "      <td>88163.00</td>\n",
       "      <td>176326.0</td>\n",
       "      <td>1083465.00</td>\n",
       "      <td>1990604.0</td>\n",
       "    </tr>\n",
       "    <tr>\n",
       "      <th>5</th>\n",
       "      <td>5.0</td>\n",
       "      <td>1.000000</td>\n",
       "      <td>0.000000</td>\n",
       "      <td>1.0</td>\n",
       "      <td>1.0</td>\n",
       "      <td>1.0</td>\n",
       "      <td>1.0</td>\n",
       "      <td>1.0</td>\n",
       "      <td>5.0</td>\n",
       "      <td>99655.000000</td>\n",
       "      <td>9.852277e+04</td>\n",
       "      <td>0.0</td>\n",
       "      <td>33570.00</td>\n",
       "      <td>71322.0</td>\n",
       "      <td>147226.00</td>\n",
       "      <td>246157.0</td>\n",
       "    </tr>\n",
       "    <tr>\n",
       "      <th>6</th>\n",
       "      <td>25.0</td>\n",
       "      <td>1.040000</td>\n",
       "      <td>0.200000</td>\n",
       "      <td>1.0</td>\n",
       "      <td>1.0</td>\n",
       "      <td>1.0</td>\n",
       "      <td>1.0</td>\n",
       "      <td>2.0</td>\n",
       "      <td>25.0</td>\n",
       "      <td>123965.720000</td>\n",
       "      <td>1.489465e+05</td>\n",
       "      <td>0.0</td>\n",
       "      <td>52543.00</td>\n",
       "      <td>86862.0</td>\n",
       "      <td>144105.00</td>\n",
       "      <td>692178.0</td>\n",
       "    </tr>\n",
       "    <tr>\n",
       "      <th>7</th>\n",
       "      <td>30.0</td>\n",
       "      <td>1.000000</td>\n",
       "      <td>0.000000</td>\n",
       "      <td>1.0</td>\n",
       "      <td>1.0</td>\n",
       "      <td>1.0</td>\n",
       "      <td>1.0</td>\n",
       "      <td>1.0</td>\n",
       "      <td>30.0</td>\n",
       "      <td>2699.733333</td>\n",
       "      <td>1.134001e+04</td>\n",
       "      <td>0.0</td>\n",
       "      <td>10.25</td>\n",
       "      <td>53.5</td>\n",
       "      <td>774.50</td>\n",
       "      <td>62438.0</td>\n",
       "    </tr>\n",
       "    <tr>\n",
       "      <th>8</th>\n",
       "      <td>5.0</td>\n",
       "      <td>1.400000</td>\n",
       "      <td>0.894427</td>\n",
       "      <td>1.0</td>\n",
       "      <td>1.0</td>\n",
       "      <td>1.0</td>\n",
       "      <td>1.0</td>\n",
       "      <td>3.0</td>\n",
       "      <td>5.0</td>\n",
       "      <td>6078.400000</td>\n",
       "      <td>1.195248e+04</td>\n",
       "      <td>0.0</td>\n",
       "      <td>369.00</td>\n",
       "      <td>1200.0</td>\n",
       "      <td>1388.00</td>\n",
       "      <td>27435.0</td>\n",
       "    </tr>\n",
       "    <tr>\n",
       "      <th>9</th>\n",
       "      <td>18.0</td>\n",
       "      <td>1.166667</td>\n",
       "      <td>0.618347</td>\n",
       "      <td>0.0</td>\n",
       "      <td>1.0</td>\n",
       "      <td>1.0</td>\n",
       "      <td>1.0</td>\n",
       "      <td>3.0</td>\n",
       "      <td>18.0</td>\n",
       "      <td>38801.111111</td>\n",
       "      <td>6.933456e+04</td>\n",
       "      <td>0.0</td>\n",
       "      <td>878.75</td>\n",
       "      <td>4803.0</td>\n",
       "      <td>60717.75</td>\n",
       "      <td>250005.0</td>\n",
       "    </tr>\n",
       "    <tr>\n",
       "      <th>10</th>\n",
       "      <td>13.0</td>\n",
       "      <td>1.153846</td>\n",
       "      <td>0.554700</td>\n",
       "      <td>1.0</td>\n",
       "      <td>1.0</td>\n",
       "      <td>1.0</td>\n",
       "      <td>1.0</td>\n",
       "      <td>3.0</td>\n",
       "      <td>13.0</td>\n",
       "      <td>278.461538</td>\n",
       "      <td>4.823425e+02</td>\n",
       "      <td>0.0</td>\n",
       "      <td>17.00</td>\n",
       "      <td>43.0</td>\n",
       "      <td>131.00</td>\n",
       "      <td>1328.0</td>\n",
       "    </tr>\n",
       "    <tr>\n",
       "      <th>11</th>\n",
       "      <td>10.0</td>\n",
       "      <td>1.100000</td>\n",
       "      <td>0.316228</td>\n",
       "      <td>1.0</td>\n",
       "      <td>1.0</td>\n",
       "      <td>1.0</td>\n",
       "      <td>1.0</td>\n",
       "      <td>2.0</td>\n",
       "      <td>10.0</td>\n",
       "      <td>251006.500000</td>\n",
       "      <td>3.961139e+05</td>\n",
       "      <td>0.0</td>\n",
       "      <td>338.50</td>\n",
       "      <td>760.5</td>\n",
       "      <td>412831.50</td>\n",
       "      <td>1211565.0</td>\n",
       "    </tr>\n",
       "    <tr>\n",
       "      <th>12</th>\n",
       "      <td>30.0</td>\n",
       "      <td>1.000000</td>\n",
       "      <td>0.000000</td>\n",
       "      <td>1.0</td>\n",
       "      <td>1.0</td>\n",
       "      <td>1.0</td>\n",
       "      <td>1.0</td>\n",
       "      <td>1.0</td>\n",
       "      <td>30.0</td>\n",
       "      <td>66482.533333</td>\n",
       "      <td>1.437862e+05</td>\n",
       "      <td>0.0</td>\n",
       "      <td>5055.25</td>\n",
       "      <td>12372.5</td>\n",
       "      <td>66419.75</td>\n",
       "      <td>760509.0</td>\n",
       "    </tr>\n",
       "    <tr>\n",
       "      <th>13</th>\n",
       "      <td>6.0</td>\n",
       "      <td>2.000000</td>\n",
       "      <td>1.549193</td>\n",
       "      <td>1.0</td>\n",
       "      <td>1.0</td>\n",
       "      <td>1.5</td>\n",
       "      <td>2.0</td>\n",
       "      <td>5.0</td>\n",
       "      <td>6.0</td>\n",
       "      <td>14703.833333</td>\n",
       "      <td>3.382782e+04</td>\n",
       "      <td>0.0</td>\n",
       "      <td>124.50</td>\n",
       "      <td>826.0</td>\n",
       "      <td>2426.75</td>\n",
       "      <td>83720.0</td>\n",
       "    </tr>\n",
       "    <tr>\n",
       "      <th>14</th>\n",
       "      <td>14.0</td>\n",
       "      <td>1.000000</td>\n",
       "      <td>0.000000</td>\n",
       "      <td>1.0</td>\n",
       "      <td>1.0</td>\n",
       "      <td>1.0</td>\n",
       "      <td>1.0</td>\n",
       "      <td>1.0</td>\n",
       "      <td>14.0</td>\n",
       "      <td>539.571429</td>\n",
       "      <td>1.277855e+03</td>\n",
       "      <td>0.0</td>\n",
       "      <td>70.00</td>\n",
       "      <td>141.0</td>\n",
       "      <td>265.25</td>\n",
       "      <td>4896.0</td>\n",
       "    </tr>\n",
       "  </tbody>\n",
       "</table>\n",
       "</div>"
      ],
      "text/plain": [
       "      Size                                               tDelt                 \\\n",
       "     count      mean       std  min  25%  50%  75%   max count           mean   \n",
       "Repo                                                                            \n",
       "0     14.0  1.000000  0.000000  1.0  1.0  1.0  1.0   1.0  14.0   11496.071429   \n",
       "1     28.0  1.285714  0.658682  1.0  1.0  1.0  1.0   4.0  28.0    1917.714286   \n",
       "2      1.0  1.000000       NaN  1.0  1.0  1.0  1.0   1.0   1.0       0.000000   \n",
       "3     20.0  2.500000  3.268671  0.0  1.0  1.5  3.0  12.0  20.0    6906.400000   \n",
       "4      3.0  1.000000  0.000000  1.0  1.0  1.0  1.0   1.0   3.0  722310.000000   \n",
       "5      5.0  1.000000  0.000000  1.0  1.0  1.0  1.0   1.0   5.0   99655.000000   \n",
       "6     25.0  1.040000  0.200000  1.0  1.0  1.0  1.0   2.0  25.0  123965.720000   \n",
       "7     30.0  1.000000  0.000000  1.0  1.0  1.0  1.0   1.0  30.0    2699.733333   \n",
       "8      5.0  1.400000  0.894427  1.0  1.0  1.0  1.0   3.0   5.0    6078.400000   \n",
       "9     18.0  1.166667  0.618347  0.0  1.0  1.0  1.0   3.0  18.0   38801.111111   \n",
       "10    13.0  1.153846  0.554700  1.0  1.0  1.0  1.0   3.0  13.0     278.461538   \n",
       "11    10.0  1.100000  0.316228  1.0  1.0  1.0  1.0   2.0  10.0  251006.500000   \n",
       "12    30.0  1.000000  0.000000  1.0  1.0  1.0  1.0   1.0  30.0   66482.533333   \n",
       "13     6.0  2.000000  1.549193  1.0  1.0  1.5  2.0   5.0   6.0   14703.833333   \n",
       "14    14.0  1.000000  0.000000  1.0  1.0  1.0  1.0   1.0  14.0     539.571429   \n",
       "\n",
       "                                                                    \n",
       "               std  min       25%       50%         75%        max  \n",
       "Repo                                                                \n",
       "0     1.558123e+04  0.0    482.25    2108.0    19664.75    40758.0  \n",
       "1     3.894617e+03  0.0    131.75     427.5     1233.25    14654.0  \n",
       "2              NaN  0.0      0.00       0.0        0.00        0.0  \n",
       "3     1.368020e+04  0.0     84.25     738.5     5625.25    52737.0  \n",
       "4     1.101907e+06  0.0  88163.00  176326.0  1083465.00  1990604.0  \n",
       "5     9.852277e+04  0.0  33570.00   71322.0   147226.00   246157.0  \n",
       "6     1.489465e+05  0.0  52543.00   86862.0   144105.00   692178.0  \n",
       "7     1.134001e+04  0.0     10.25      53.5      774.50    62438.0  \n",
       "8     1.195248e+04  0.0    369.00    1200.0     1388.00    27435.0  \n",
       "9     6.933456e+04  0.0    878.75    4803.0    60717.75   250005.0  \n",
       "10    4.823425e+02  0.0     17.00      43.0      131.00     1328.0  \n",
       "11    3.961139e+05  0.0    338.50     760.5   412831.50  1211565.0  \n",
       "12    1.437862e+05  0.0   5055.25   12372.5    66419.75   760509.0  \n",
       "13    3.382782e+04  0.0    124.50     826.0     2426.75    83720.0  \n",
       "14    1.277855e+03  0.0     70.00     141.0      265.25     4896.0  "
      ]
     },
     "execution_count": 67,
     "metadata": {},
     "output_type": "execute_result"
    }
   ],
   "source": [
    "githubDF.groupby('Repo').describe()"
   ]
  },
  {
   "cell_type": "code",
   "execution_count": 51,
   "metadata": {
    "collapsed": false
   },
   "outputs": [
    {
     "data": {
      "text/plain": [
       "Text(0.5,0,'Time between pushes [log(s)]')"
      ]
     },
     "execution_count": 51,
     "metadata": {},
     "output_type": "execute_result"
    },
    {
     "data": {
      "image/png": "[encoded data removed]",
      "text/plain": [
       "<matplotlib.figure.Figure at 0x7efed9dc3e10>"
      ]
     },
     "metadata": {},
     "output_type": "display_data"
    }
   ],
   "source": [
    "import matplotlib.pyplot as plt\n",
    "githubDF.iloc[:,3].plot.hist(loglog=True,title='Histogram of Time between Pushes').set_xlabel('Time between pushes [log(s)]')"
   ]
  },
  {
   "cell_type": "code",
   "execution_count": 68,
   "metadata": {
    "collapsed": false
   },
   "outputs": [
    {
     "data": {
      "text/plain": [
       "Text(0.5,0,'Commits in a Push')"
      ]
     },
     "execution_count": 68,
     "metadata": {},
     "output_type": "execute_result"
    },
    {
     "data": {
      "image/png": "[encoded data removed]",
      "text/plain": [
       "<matplotlib.figure.Figure at 0x7efed9220a90>"
      ]
     },
     "metadata": {},
     "output_type": "display_data"
    }
   ],
   "source": [
    "githubDF.iloc[:,1].plot.hist(logy=True,title='Histogram of Commits Per Push').set_xlabel('Commits in a Push')\n"
   ]
  },
  {
   "cell_type": "code",
   "execution_count": 71,
   "metadata": {
    "collapsed": false
   },
   "outputs": [
    {
     "data": {
      "text/plain": [
       "Text(0.5,0,'Commits in a Push')"
      ]
     },
     "execution_count": 71,
     "metadata": {},
     "output_type": "execute_result"
    },
    {
     "data": {
      "image/png": "[encoded data removed]",
      "text/plain": [
       "<matplotlib.figure.Figure at 0x7efed93737f0>"
      ]
     },
     "metadata": {},
     "output_type": "display_data"
    }
   ],
   "source": [
    "p3 = githubDF.plot.scatter(x='Size',y='tDelt',logy=True)\n",
    "p3.set_ylim(bottom=0.1)\n",
    "p3.set_ylabel('Time between pushes [log(s)]')\n",
    "p3.set_xlabel('Commits in a Push')"
   ]
  },
  {
   "cell_type": "markdown",
   "metadata": {},
   "source": [
    "### Outlier Detection\n",
    "\n",
    "Following the exploratory analysis we can move onto determing which push events may be considered outliers. As a first pass to this we perform a z test for each parameter in the data set to find outliers in the time interval between pushes and in the number of commits between pushes.\n",
    "\n",
    "A z test is not appropriate for the distributions of these two parameters, however it is still useful for developing understanding in which to ground subsequent more complex and statistically appropriate measures."
   ]
  },
  {
   "cell_type": "code",
   "execution_count": 75,
   "metadata": {
    "collapsed": false
   },
   "outputs": [
    {
     "data": {
      "text/html": [
       "<div>\n",
       "<style scoped>\n",
       "    .dataframe tbody tr th:only-of-type {\n",
       "        vertical-align: middle;\n",
       "    }\n",
       "\n",
       "    .dataframe tbody tr th {\n",
       "        vertical-align: top;\n",
       "    }\n",
       "\n",
       "    .dataframe thead th {\n",
       "        text-align: right;\n",
       "    }\n",
       "</style>\n",
       "<table border=\"1\" class=\"dataframe\">\n",
       "  <thead>\n",
       "    <tr style=\"text-align: right;\">\n",
       "      <th></th>\n",
       "      <th>Repo</th>\n",
       "      <th>Size</th>\n",
       "      <th>Time</th>\n",
       "      <th>tDelt</th>\n",
       "    </tr>\n",
       "  </thead>\n",
       "  <tbody>\n",
       "    <tr>\n",
       "      <th>51</th>\n",
       "      <td>3</td>\n",
       "      <td>12</td>\n",
       "      <td>2018-11-15 17:29:36</td>\n",
       "      <td>13578.0</td>\n",
       "    </tr>\n",
       "    <tr>\n",
       "      <th>57</th>\n",
       "      <td>3</td>\n",
       "      <td>11</td>\n",
       "      <td>2018-11-15 11:57:44</td>\n",
       "      <td>526.0</td>\n",
       "    </tr>\n",
       "    <tr>\n",
       "      <th>204</th>\n",
       "      <td>13</td>\n",
       "      <td>5</td>\n",
       "      <td>2018-11-15 15:27:25</td>\n",
       "      <td>1514.0</td>\n",
       "    </tr>\n",
       "  </tbody>\n",
       "</table>\n",
       "</div>"
      ],
      "text/plain": [
       "     Repo  Size                Time    tDelt\n",
       "51      3    12 2018-11-15 17:29:36  13578.0\n",
       "57      3    11 2018-11-15 11:57:44    526.0\n",
       "204    13     5 2018-11-15 15:27:25   1514.0"
      ]
     },
     "execution_count": 75,
     "metadata": {},
     "output_type": "execute_result"
    }
   ],
   "source": [
    "from scipy import stats\n",
    "\n",
    "sizeIndex = stats.zscore(githubDF.iloc[:,1]) > 3.0\n",
    "sizeIndex\n",
    "\n",
    "githubDF.iloc[sizeIndex]"
   ]
  },
  {
   "cell_type": "code",
   "execution_count": 76,
   "metadata": {
    "collapsed": false
   },
   "outputs": [
    {
     "data": {
      "text/html": [
       "<div>\n",
       "<style scoped>\n",
       "    .dataframe tbody tr th:only-of-type {\n",
       "        vertical-align: middle;\n",
       "    }\n",
       "\n",
       "    .dataframe tbody tr th {\n",
       "        vertical-align: top;\n",
       "    }\n",
       "\n",
       "    .dataframe thead th {\n",
       "        text-align: right;\n",
       "    }\n",
       "</style>\n",
       "<table border=\"1\" class=\"dataframe\">\n",
       "  <thead>\n",
       "    <tr style=\"text-align: right;\">\n",
       "      <th></th>\n",
       "      <th>Repo</th>\n",
       "      <th>Size</th>\n",
       "      <th>Time</th>\n",
       "      <th>tDelt</th>\n",
       "    </tr>\n",
       "  </thead>\n",
       "  <tbody>\n",
       "    <tr>\n",
       "      <th>64</th>\n",
       "      <td>4</td>\n",
       "      <td>1</td>\n",
       "      <td>2018-11-14 13:44:00</td>\n",
       "      <td>1990604.0</td>\n",
       "    </tr>\n",
       "    <tr>\n",
       "      <th>92</th>\n",
       "      <td>6</td>\n",
       "      <td>1</td>\n",
       "      <td>2018-10-23 07:11:34</td>\n",
       "      <td>692178.0</td>\n",
       "    </tr>\n",
       "    <tr>\n",
       "      <th>165</th>\n",
       "      <td>11</td>\n",
       "      <td>1</td>\n",
       "      <td>2018-11-16 14:15:37</td>\n",
       "      <td>1211565.0</td>\n",
       "    </tr>\n",
       "    <tr>\n",
       "      <th>193</th>\n",
       "      <td>12</td>\n",
       "      <td>1</td>\n",
       "      <td>2018-11-09 10:38:59</td>\n",
       "      <td>760509.0</td>\n",
       "    </tr>\n",
       "  </tbody>\n",
       "</table>\n",
       "</div>"
      ],
      "text/plain": [
       "     Repo  Size                Time      tDelt\n",
       "64      4     1 2018-11-14 13:44:00  1990604.0\n",
       "92      6     1 2018-10-23 07:11:34   692178.0\n",
       "165    11     1 2018-11-16 14:15:37  1211565.0\n",
       "193    12     1 2018-11-09 10:38:59   760509.0"
      ]
     },
     "execution_count": 76,
     "metadata": {},
     "output_type": "execute_result"
    }
   ],
   "source": [
    "timeIndex = stats.zscore(githubDF.iloc[:,3]) > 3.0\n",
    "timeIndex\n",
    "\n",
    "githubDF.iloc[timeIndex]"
   ]
  },
  {
   "cell_type": "markdown",
   "metadata": {},
   "source": [
    "We now move on to a multivariate nonparametric tests to present a more sophisticated analysis. In this case we will use the \"Dbscan\" denisty based cluster method. This approach builds cluster by assuming that clusters are defined by parameter space density distributions. Any points that do not live in sufficiently dense regions of parameter space are outliers.\n",
    "\n",
    "The first step a Dbscan analysis is to normalize the data so that all dimensions are weighted equaly when clusters are constructed."
   ]
  },
  {
   "cell_type": "code",
   "execution_count": 84,
   "metadata": {
    "collapsed": false
   },
   "outputs": [
    {
     "data": {
      "text/html": [
       "<div>\n",
       "<style scoped>\n",
       "    .dataframe tbody tr th:only-of-type {\n",
       "        vertical-align: middle;\n",
       "    }\n",
       "\n",
       "    .dataframe tbody tr th {\n",
       "        vertical-align: top;\n",
       "    }\n",
       "\n",
       "    .dataframe thead th {\n",
       "        text-align: right;\n",
       "    }\n",
       "</style>\n",
       "<table border=\"1\" class=\"dataframe\">\n",
       "  <thead>\n",
       "    <tr style=\"text-align: right;\">\n",
       "      <th></th>\n",
       "      <th>Size</th>\n",
       "      <th>tDelt</th>\n",
       "    </tr>\n",
       "  </thead>\n",
       "  <tbody>\n",
       "    <tr>\n",
       "      <th>0</th>\n",
       "      <td>0.083333</td>\n",
       "      <td>0.000224</td>\n",
       "    </tr>\n",
       "    <tr>\n",
       "      <th>1</th>\n",
       "      <td>0.083333</td>\n",
       "      <td>0.000652</td>\n",
       "    </tr>\n",
       "    <tr>\n",
       "      <th>2</th>\n",
       "      <td>0.083333</td>\n",
       "      <td>0.000413</td>\n",
       "    </tr>\n",
       "    <tr>\n",
       "      <th>3</th>\n",
       "      <td>0.083333</td>\n",
       "      <td>0.020475</td>\n",
       "    </tr>\n",
       "    <tr>\n",
       "      <th>4</th>\n",
       "      <td>0.083333</td>\n",
       "      <td>0.000160</td>\n",
       "    </tr>\n",
       "  </tbody>\n",
       "</table>\n",
       "</div>"
      ],
      "text/plain": [
       "       Size     tDelt\n",
       "0  0.083333  0.000224\n",
       "1  0.083333  0.000652\n",
       "2  0.083333  0.000413\n",
       "3  0.083333  0.020475\n",
       "4  0.083333  0.000160"
      ]
     },
     "execution_count": 84,
     "metadata": {},
     "output_type": "execute_result"
    }
   ],
   "source": [
    "from sklearn import preprocessing\n",
    "\n",
    "#setup data scaler\n",
    "mmScaler = preprocessing.MinMaxScaler()\n",
    "\n",
    "scaledDF = mmScaler.fit_transform(githubDF[['Size','tDelt']])\n",
    "scaledDF = pd.DataFrame(scaledDF,columns=['Size','tDelt'])\n",
    "scaledDF.head()\n",
    "#mmScaler.fit_transform(githubDF.iloc[:,3].values)"
   ]
  },
  {
   "cell_type": "code",
   "execution_count": 93,
   "metadata": {
    "collapsed": false
   },
   "outputs": [
    {
     "data": {
      "text/plain": [
       "(1e-06, 11.220184543019636)"
      ]
     },
     "execution_count": 93,
     "metadata": {},
     "output_type": "execute_result"
    },
    {
     "data": {
      "image/png": "[encoded data removed]",
      "text/plain": [
       "<matplotlib.figure.Figure at 0x7efed8daf550>"
      ]
     },
     "metadata": {},
     "output_type": "display_data"
    }
   ],
   "source": [
    "scaledDF.plot.scatter(x='Size',y='tDelt',logy=True).set_ylim(bottom=0.000001)"
   ]
  },
  {
   "cell_type": "markdown",
   "metadata": {},
   "source": [
    "Once the data is normalized and rescaled we can fit clusters to the data set and determine which data points lie outside the clusters."
   ]
  },
  {
   "cell_type": "code",
   "execution_count": 103,
   "metadata": {
    "collapsed": false
   },
   "outputs": [
    {
     "data": {
      "text/html": [
       "<div>\n",
       "<style scoped>\n",
       "    .dataframe tbody tr th:only-of-type {\n",
       "        vertical-align: middle;\n",
       "    }\n",
       "\n",
       "    .dataframe tbody tr th {\n",
       "        vertical-align: top;\n",
       "    }\n",
       "\n",
       "    .dataframe thead th {\n",
       "        text-align: right;\n",
       "    }\n",
       "</style>\n",
       "<table border=\"1\" class=\"dataframe\">\n",
       "  <thead>\n",
       "    <tr style=\"text-align: right;\">\n",
       "      <th></th>\n",
       "      <th>Repo</th>\n",
       "      <th>Size</th>\n",
       "      <th>Time</th>\n",
       "      <th>tDelt</th>\n",
       "    </tr>\n",
       "  </thead>\n",
       "  <tbody>\n",
       "    <tr>\n",
       "      <th>51</th>\n",
       "      <td>3</td>\n",
       "      <td>12</td>\n",
       "      <td>2018-11-15 17:29:36</td>\n",
       "      <td>13578.0</td>\n",
       "    </tr>\n",
       "    <tr>\n",
       "      <th>57</th>\n",
       "      <td>3</td>\n",
       "      <td>11</td>\n",
       "      <td>2018-11-15 11:57:44</td>\n",
       "      <td>526.0</td>\n",
       "    </tr>\n",
       "    <tr>\n",
       "      <th>64</th>\n",
       "      <td>4</td>\n",
       "      <td>1</td>\n",
       "      <td>2018-11-14 13:44:00</td>\n",
       "      <td>1990604.0</td>\n",
       "    </tr>\n",
       "  </tbody>\n",
       "</table>\n",
       "</div>"
      ],
      "text/plain": [
       "    Repo  Size                Time      tDelt\n",
       "51     3    12 2018-11-15 17:29:36    13578.0\n",
       "57     3    11 2018-11-15 11:57:44      526.0\n",
       "64     4     1 2018-11-14 13:44:00  1990604.0"
      ]
     },
     "execution_count": 103,
     "metadata": {},
     "output_type": "execute_result"
    }
   ],
   "source": [
    "from sklearn.cluster import DBSCAN\n",
    "db = DBSCAN(eps=0.3,min_samples=10).fit(scaledDF)\n",
    "labels = db.labels_\n",
    "outlierIndex = labels == -1\n",
    "memberIndex = labels != -1\n",
    "\n",
    "githubDF.iloc[outlierIndex]"
   ]
  },
  {
   "cell_type": "code",
   "execution_count": 107,
   "metadata": {
    "collapsed": false
   },
   "outputs": [
    {
     "data": {
      "text/plain": [
       "Text(0.5,0,'Commits in a Push')"
      ]
     },
     "execution_count": 107,
     "metadata": {},
     "output_type": "execute_result"
    },
    {
     "data": {
      "image/png": "[encoded data removed]",
      "text/plain": [
       "<matplotlib.figure.Figure at 0x7efed0375390>"
      ]
     },
     "metadata": {},
     "output_type": "display_data"
    }
   ],
   "source": [
    "p3 = githubDF.iloc[memberIndex].plot.scatter(x='Size',y='tDelt',logy=True,label='Member')\n",
    "githubDF.iloc[outlierIndex].plot.scatter(x='Size',y='tDelt',logy=True,label='Outlier',color='red',ax=p3)\n",
    "p3.set_ylim(bottom=0.1,top=1e7)\n",
    "p3.set_ylabel('Time between pushes [log(s)]')\n",
    "p3.set_xlabel('Commits in a Push')"
   ]
  },
  {
   "cell_type": "code",
   "execution_count": null,
   "metadata": {
    "collapsed": true
   },
   "outputs": [],
   "source": []
  }
 ],
 "metadata": {
  "kernelspec": {
   "display_name": "Python 3",
   "language": "python",
   "name": "python3"
  },
  "language_info": {
   "codemirror_mode": {
    "name": "ipython",
    "version": 3
   },
   "file_extension": ".py",
   "mimetype": "text/x-python",
   "name": "python",
   "nbconvert_exporter": "python",
   "pygments_lexer": "ipython3",
   "version": "3.6.6"
  }
 },
 "nbformat": 4,
 "nbformat_minor": 2
}
